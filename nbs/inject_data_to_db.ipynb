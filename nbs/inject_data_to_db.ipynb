{
 "cells": [
  {
   "cell_type": "code",
   "execution_count": 1,
   "metadata": {},
   "outputs": [],
   "source": [
    "!pip install pandas cx_Oracle ipython-sql > /dev/null"
   ]
  },
  {
   "cell_type": "markdown",
   "metadata": {},
   "source": [
    "Create and populate a Oracle Database from a Pandas Dataframe.  \n",
    "Uses SQL alchemy and cx Oracle to connect the server with the client."
   ]
  },
  {
   "cell_type": "code",
   "execution_count": 6,
   "metadata": {},
   "outputs": [],
   "source": [
    "import cx_Oracle\n",
    "import pandas as pd\n",
    "from sqlalchemy import types, create_engine\n",
    "\n",
    "\n",
    "usr = 'movies_project'\n",
    "pwd = 'intekglobal123'\n",
    "url = 'db:1521'\n",
    "srv = 'xepdb1'\n",
    "\n",
    "conn_string = 'oracle+cx_oracle://{}:{}@{}/?service_name={}'.format(usr,pwd,url,srv)\n",
    "conn = create_engine(conn_string,encoding='UTF-8')\n",
    "\n"
   ]
  },
  {
   "cell_type": "code",
   "execution_count": 7,
   "metadata": {},
   "outputs": [],
   "source": [
    "def process_column(x):\n",
    "    words = x.split(' ')\n",
    "    for k,word in enumerate(words):\n",
    "        words[k] = words[k].strip().lower()    \n",
    "        if '(' in word:\n",
    "            words[k] = words[k][1:]\n",
    "        if ')' in word:     \n",
    "            words[k] = words[k][:-1]\n",
    "    return '_'.join(words)\n",
    "    "
   ]
  },
  {
   "cell_type": "code",
   "execution_count": 8,
   "metadata": {},
   "outputs": [],
   "source": [
    "df = pd.read_json(\n",
    "    '../data/raw/rotten_tomatoes_Mon_Nov_30_22_48_06_2020.json', lines=True\n",
    ")\n",
    "new_columns = [process_column(x) for x in df.columns]\n",
    "df.columns = new_columns"
   ]
  },
  {
   "cell_type": "code",
   "execution_count": 9,
   "metadata": {},
   "outputs": [
    {
     "name": "stderr",
     "output_type": "stream",
     "text": [
      "/opt/conda/lib/python3.7/site-packages/sqlalchemy/dialects/oracle/base.py:1339: SAWarning: Oracle version (18, 0, 0, 0, 0) is known to have a maximum identifier length of 128, rather than the historical default of 30. SQLAlchemy 1.4 will use 128 for this database; please set max_identifier_length=128 in create_engine() in order to test the application with this new length, or set to 30 in order to assure that 30 continues to be used.  In particular, pay close attention to the behavior of database migrations as dynamically generated names may change. See the section 'Max Identifier Lengths' in the SQLAlchemy Oracle dialect documentation for background.\n",
      "  % ((self.server_version_info,))\n"
     ]
    }
   ],
   "source": [
    "df.to_sql('rotten_tomatoes_raw', conn, if_exists='replace',index=False)"
   ]
  },
  {
   "cell_type": "code",
   "execution_count": null,
   "metadata": {},
   "outputs": [],
   "source": []
  }
 ],
 "metadata": {
  "kernelspec": {
   "display_name": "Python 3",
   "language": "python",
   "name": "python3"
  },
  "language_info": {
   "codemirror_mode": {
    "name": "ipython",
    "version": 3
   },
   "file_extension": ".py",
   "mimetype": "text/x-python",
   "name": "python",
   "nbconvert_exporter": "python",
   "pygments_lexer": "ipython3",
   "version": "3.7.6"
  }
 },
 "nbformat": 4,
 "nbformat_minor": 4
}
