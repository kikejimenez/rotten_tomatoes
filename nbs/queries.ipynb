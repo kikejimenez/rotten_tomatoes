{
 "cells": [
  {
   "cell_type": "markdown",
   "metadata": {},
   "source": [
    "Query the previously created schema using sql and answer the following question: \n",
    "\n",
    "Which was the highest/lowest-grossing movie for the available years? \t        \n",
    "Which are the movies directed by George Lucas? \t\t                 \t        \t\n",
    "List the different genres available in the database\t\t\t     \t       \n",
    "Which genre has the highest rating on average?\t\t\t\t       \n",
    "Which genre has the most won awards?\t\t\t       \t \t        \n",
    "What is the average running time by decade? \t\t           \t\t        \n",
    "which actors/actresses appear in the highest-grossing film?\t\t       \n",
    "Which is the least profitable genre? \t\n",
    "Which are the top 5 countries making movies?\t\t\t\t      \t\n",
    "Which are the top 10 frequently used filming locations?\t\t\t      \n",
    "Which movie has more positive/negative critics? What is the genre?\t      \n",
    "Which director has directed more movies?\t\t\t\t\t      \n",
    "Which director has won more awards?\t\t\t\t\t      \n",
    "Which movie has been nominated for more awards?\t\n",
    "Which movie has won more awards?\t\t\t     \n",
    "Which movie has won more awards per genre?\t\t\t\t     \n",
    "Which movies have a score of 9 or higher? Who directed them?            \t     \n",
    "What was the average budget for movies with a score/rating of 90 or higher?  \n",
    "What is the movie with the highest rate per decade?\t\t\t    \n",
    "Find the movie with fewer awards from the top 20 most expensive movies. (Show output as “movie-x won N awards and had a budget of $99,999,999.00” )\n",
    "Find the movie with the most awards from the 20 less expensive movies.\n",
    "Name actors performing in ‘The godfather’\t\t\t\t\t\t\n",
    "Which actor/actress has appeared in more movies?\t\t\n",
    "How much money was spent making movies in the year 1991?\n",
    "What is the average running time per decade?\n",
    "Create a column where the legend \"OSCAR\" appears if the movies have won any Oscars and the legend \"no-oscar\" if none. show the list in alphabetical order\n",
    "Guess the name of the actor appearing in the list of movies! Create a view that returns \n",
    "the first and last string of the actor's name and \"*****\" in between. \n",
    "How often critics disagree with the fan’s opinion?\t"
   ]
  },
  {
   "cell_type": "code",
   "execution_count": 31,
   "metadata": {},
   "outputs": [
    {
     "name": "stdout",
     "output_type": "stream",
     "text": [
      "Values: ('X',)\n"
     ]
    }
   ],
   "source": [
    "import cx_Oracle\n",
    "\n",
    "usr ='movies_project'\n",
    "pwd = 'intekglobal123'\n",
    "\n",
    "#tns=\"db:1521/xe\"\n",
    "dsn = cx_Oracle.makedsn(\"db\", 1521, service_name=\"xepdb1\")\n",
    "\n",
    "connection = cx_Oracle.connect(usr, pwd, dsn,encoding=\"UTF-8\")\n",
    "\n",
    "\n",
    "#check connectivity\n",
    "cursor = connection.cursor()\n",
    "for val in cursor.execute(\"\"\"   SELECT * FROM DUAL \"\"\"):\n",
    "    print(\"Values:\", val)"
   ]
  },
  {
   "cell_type": "markdown",
   "metadata": {},
   "source": [
    "## FUNCTIONS"
   ]
  },
  {
   "cell_type": "code",
   "execution_count": 32,
   "metadata": {},
   "outputs": [
    {
     "data": {
      "text/plain": [
       "8"
      ]
     },
     "execution_count": 32,
     "metadata": {},
     "output_type": "execute_result"
    }
   ],
   "source": [
    "def q_max_names(colname):\n",
    "    '''\n",
    "    Select max number of names in all columns.\n",
    "    Input: Column Name\n",
    "    Output: Query String\n",
    "    '''\n",
    "    return f\"\"\"  \n",
    "SELECT MAX(num_{colname}) FROM  (\n",
    "SELECT  (LENGTH( \"{colname}\" ) - LENGTH(REPLACE( \"{colname}\" ,',','')) + 1) AS num_{colname} \n",
    "FROM (\n",
    "SELECT TO_CHAR(TRIM(\"{colname}\" )) AS \"{colname}\"   FROM ROTTEN_TOMATOES_RAW rtr \n",
    "WHERE \"{colname}\"  IS NOT NULL \n",
    ")\n",
    ")\n",
    "\"\"\"\n",
    "\n",
    "#example\n",
    "max_writers =  [int(result[0]) for col in ['WRITER'] for result in cursor.execute(q_max_names(col))][0]\n",
    "\n",
    "max_writers"
   ]
  },
  {
   "cell_type": "code",
   "execution_count": 33,
   "metadata": {},
   "outputs": [],
   "source": [
    "def union_all(name_prefix,new_name,max_columns):\n",
    "    \"\"\" union all columns {name_prefix}_1, ... , {name_prefix}_{max_columns} in a {new_name}\n",
    "        Incorporates film_name\n",
    "    \"\"\"\n",
    "    selec_from =  lambda k: f\"\"\"SELECT rtf.*, {name_prefix}_{k} AS {new_name} FROM ROTTEN_TOMATOES_FLAT rtf\n",
    "    WHERE {name_prefix}_{k} is not null\n",
    "    \"\"\"\n",
    "    q_string = '\\n UNION ALL \\n'.join([selec_from(k) for k in range(1,max_columns+1)])\n",
    "    return q_string \n",
    "\n",
    "def union_and_equal_value(name_prefix,new_name,max_columns,col_value):\n",
    "    \"\"\" applies union_all(...) and 'where' equal to {col_value} clause\n",
    "    \"\"\"\n",
    "    return f\"\"\"\n",
    "SELECT {new_name}_db.*\n",
    "FROM ({union_all(name_prefix,new_name,max_columns)}) {new_name}_db\n",
    "\n",
    "WHERE {new_name}_db.{new_name} = '{col_value}'\n",
    "\"\"\""
   ]
  },
  {
   "cell_type": "markdown",
   "metadata": {},
   "source": [
    "## QUERIES"
   ]
  },
  {
   "cell_type": "markdown",
   "metadata": {},
   "source": [
    "### One\n",
    "> Which was the highest/lowest-grossing movie for the available years? \t"
   ]
  },
  {
   "cell_type": "code",
   "execution_count": 34,
   "metadata": {},
   "outputs": [],
   "source": [
    "q_1 = f\"\"\"\n",
    "SELECT film_name,gross_num\n",
    "FROM\n",
    "(\n",
    "\tSELECT  rtr.*,\n",
    "\t   \n",
    "\t    MAX(gross_num) OVER() max_gross,\n",
    "\t  \n",
    "\t    MIN(gross_num) OVER() min_gross\n",
    "\t    \n",
    "\t\tFROM (\n",
    "\t\t\n",
    "\t\t\tSELECT rtr.*, \n",
    "\t\t\t\tCASE SUBSTR(bogu,-1) \n",
    "\t\t\t\t\tWHEN 'M' THEN TO_NUMBER(REVERSE(SUBSTR(REVERSE(bogu),2))) * 1000000\n",
    "\t\t\t\t\tWHEN 'K' THEN TO_NUMBER(REVERSE(SUBSTR(REVERSE(bogu),2))) * 1000\n",
    "\t\t\t\t\tELSE NULL\n",
    "\t\t\t\tEND AS GROSS_NUM\n",
    "\t\t\tFROM \n",
    "\t\t\t\t(\n",
    "\t\t\t\tSELECT rtr.*, SUBSTR(TO_CHAR( BOX_OFFICE_GROSS_USA),2) AS bogu FROM ROTTEN_TOMATOES_RAW rtr\n",
    "\t\t\t   ) rtr\n",
    "\t\t\n",
    "\t\t)  rtr\n",
    "\n",
    ") WHERE  max_gross = gross_num OR min_gross = gross_num\n",
    "ORDER BY gross_num ASC \n",
    "\"\"\" "
   ]
  },
  {
   "cell_type": "code",
   "execution_count": 35,
   "metadata": {},
   "outputs": [
    {
     "name": "stdout",
     "output_type": "stream",
     "text": [
      "highest film: Up for Grabs (2005) -- box_office_gross 1900 Dlls.\n",
      "lowest film: Avengers: Endgame (2019) -- box_office_gross 858400000 Dlls.\n"
     ]
    }
   ],
   "source": [
    "\n",
    "for k,v in zip(['highest','lowest'],cursor.execute(q_1)):\n",
    "    \n",
    "    print(k,'film:',v[0], '-- box_office_gross', str(v[1]) +' Dlls.')"
   ]
  },
  {
   "cell_type": "markdown",
   "metadata": {},
   "source": [
    "### Two\n",
    "  > Which are the movies directed by George Lucas? \t"
   ]
  },
  {
   "cell_type": "code",
   "execution_count": 36,
   "metadata": {},
   "outputs": [
    {
     "data": {
      "text/plain": [
       "8"
      ]
     },
     "execution_count": 36,
     "metadata": {},
     "output_type": "execute_result"
    }
   ],
   "source": [
    "max_writers =  [int(result[0]) for col in ['WRITER'] for result in cursor.execute(q_max_names(col))][0]\n",
    "\n",
    "max_writers"
   ]
  },
  {
   "cell_type": "code",
   "execution_count": 37,
   "metadata": {},
   "outputs": [],
   "source": [
    "for r in  cursor.execute(union_and_equal_value('writer','n_writer',max_writers,'George Lucas')):\n",
    "    print(r[0],r[1])"
   ]
  },
  {
   "cell_type": "markdown",
   "metadata": {},
   "source": [
    "What about Woody Allen?"
   ]
  },
  {
   "cell_type": "code",
   "execution_count": 38,
   "metadata": {},
   "outputs": [
    {
     "name": "stdout",
     "output_type": "stream",
     "text": [
      "2011 Midnight in Paris (2011)\n",
      "2013 Blue Jasmine (2013)\n"
     ]
    }
   ],
   "source": [
    "for r in  cursor.execute(union_and_equal_value('writer','n_writer',max_writers,'Woody Allen')):\n",
    "    print(r[0],r[1])"
   ]
  },
  {
   "cell_type": "markdown",
   "metadata": {},
   "source": [
    "### Three\n",
    "\n",
    " > List the different genres available in the database"
   ]
  },
  {
   "cell_type": "code",
   "execution_count": 39,
   "metadata": {},
   "outputs": [
    {
     "data": {
      "text/plain": [
       "6"
      ]
     },
     "execution_count": 39,
     "metadata": {},
     "output_type": "execute_result"
    }
   ],
   "source": [
    "max_genres =  [int(result[0]) for col in ['GENRE'] for result in cursor.execute(q_max_names(col))][0]\n",
    "\n",
    "max_genres"
   ]
  },
  {
   "cell_type": "code",
   "execution_count": 40,
   "metadata": {},
   "outputs": [
    {
     "name": "stdout",
     "output_type": "stream",
     "text": [
      "\n",
      "SELECT DISTINCT(n_genre)\n",
      "FROM (SELECT rtf.*, genre_1 AS n_genre FROM ROTTEN_TOMATOES_FLAT rtf\n",
      "    WHERE genre_1 is not null\n",
      "    \n",
      " UNION ALL \n",
      "SELECT rtf.*, genre_2 AS n_genre FROM ROTTEN_TOMATOES_FLAT rtf\n",
      "    WHERE genre_2 is not null\n",
      "    \n",
      " UNION ALL \n",
      "SELECT rtf.*, genre_3 AS n_genre FROM ROTTEN_TOMATOES_FLAT rtf\n",
      "    WHERE genre_3 is not null\n",
      "    \n",
      " UNION ALL \n",
      "SELECT rtf.*, genre_4 AS n_genre FROM ROTTEN_TOMATOES_FLAT rtf\n",
      "    WHERE genre_4 is not null\n",
      "    \n",
      " UNION ALL \n",
      "SELECT rtf.*, genre_5 AS n_genre FROM ROTTEN_TOMATOES_FLAT rtf\n",
      "    WHERE genre_5 is not null\n",
      "    \n",
      " UNION ALL \n",
      "SELECT rtf.*, genre_6 AS n_genre FROM ROTTEN_TOMATOES_FLAT rtf\n",
      "    WHERE genre_6 is not null\n",
      "    )\n",
      "ORDER BY n_genre\n",
      "\n"
     ]
    }
   ],
   "source": [
    "union_genres_union_clauses = union_all(name_prefix='genre',new_name ='n_genre',max_columns=max_genres)\n",
    "union_genres = f\"\"\"\n",
    "SELECT DISTINCT(n_genre)\n",
    "FROM ({union_genres_union_clauses})\n",
    "ORDER BY n_genre\n",
    "\"\"\"\n",
    "print(union_genres)"
   ]
  },
  {
   "cell_type": "code",
   "execution_count": 41,
   "metadata": {},
   "outputs": [
    {
     "name": "stdout",
     "output_type": "stream",
     "text": [
      "('Action',)\n",
      "('Adventure',)\n",
      "('Animation',)\n",
      "('Anime',)\n",
      "('Biography',)\n",
      "('Comedy',)\n",
      "('Crime',)\n",
      "('Documentary',)\n",
      "('Drama',)\n",
      "('Fantasy',)\n",
      "('History',)\n",
      "('Horror',)\n",
      "('Kids And Family',)\n",
      "('Music',)\n",
      "('Musical',)\n",
      "('Mystery And Thriller',)\n",
      "('Other',)\n",
      "('Romance',)\n",
      "('Sci Fi',)\n",
      "('Sports And Fitness',)\n",
      "('War',)\n",
      "('Western',)\n"
     ]
    }
   ],
   "source": [
    "for r in  cursor.execute(union_genres):\n",
    "    print(r)"
   ]
  },
  {
   "cell_type": "markdown",
   "metadata": {},
   "source": [
    "### Four\n",
    "> Which genre has the highest rating on average?"
   ]
  },
  {
   "cell_type": "code",
   "execution_count": 42,
   "metadata": {},
   "outputs": [
    {
     "name": "stdout",
     "output_type": "stream",
     "text": [
      " Average Score per Genre \n",
      "\n",
      "('Documentary', 93.35860058309038)\n",
      "('Kids And Family', 88.32876712328768)\n",
      "('Mystery And Thriller', 89.12946428571429)\n",
      "('Adventure', 88.45454545454545)\n",
      "('Fantasy', 88.1842105263158)\n",
      "('Romance', 88.40336134453781)\n",
      "('Sports And Fitness', 88.75)\n",
      "('Horror', 90.62121212121212)\n",
      "('Sci Fi', 86.82191780821918)\n",
      "('Animation', 90.54794520547945)\n",
      "('Action', 87.04379562043796)\n",
      "('History', 91.34736842105264)\n",
      "('Other', 90.33333333333333)\n",
      "('Biography', 90.24509803921569)\n",
      "('Anime', 90.33333333333333)\n",
      "('Drama', 90.14988290398126)\n",
      "('Comedy', 89.2463768115942)\n",
      "('Crime', 89.60215053763442)\n",
      "('War', 90.4)\n",
      "('Western', 90.55555555555556)\n",
      "('Music', 92.1025641025641)\n",
      "('Musical', 89.16666666666667)\n",
      "\n",
      " Max Value of the Average Score per Genre \n",
      "\n",
      "(93.35860058309038,)\n",
      "\n",
      " Genre(s) with highest score on average \n",
      "\n",
      "('Documentary', 93.35860058309038)\n"
     ]
    }
   ],
   "source": [
    "union_genres_union_clauses = union_all(name_prefix='genre',new_name ='n_genre',max_columns=max_genres)\n",
    "genre_and_score = f\"\"\"\n",
    "SELECT \n",
    "n_genre AS genre,\n",
    "CASE\n",
    "\tWHEN LENGTH(TRIM(TO_CHAR(TOMATOMETER_SCORE))) < 4\n",
    "\t\tTHEN TO_NUMBER( \n",
    "\t\t          REVERSE(SUBSTR(\n",
    "\t\t          REVERSE(\n",
    "\t\t                 TRIM(TO_CHAR(TOMATOMETER_SCORE))\n",
    "\t\t                 )\n",
    "\t\t          ,2)) \n",
    "\t\t          )  \n",
    "END SCORE \n",
    "FROM ({union_genres_union_clauses}) \n",
    "\"\"\"\n",
    "\n",
    "avg_score_per_genre =  f\"\"\"\n",
    " SELECT genre, AVG(score) as mean\n",
    "FROM ({genre_and_score})\n",
    "GROUP BY genre \n",
    "\n",
    "\"\"\"\n",
    "\n",
    "max_avg_score_per_genre =  f\"\"\"\n",
    " SELECT MAX(mean)\n",
    " FROM ({avg_score_per_genre})\n",
    " \"\"\"\n",
    "\n",
    "genres_with_highest_score = f\"\"\"\n",
    "SELECT *\n",
    "FROM ({avg_score_per_genre})\n",
    "WHERE mean = ({max_avg_score_per_genre})\n",
    "\"\"\"\n",
    "\n",
    "print(' Average Score per Genre \\n')\n",
    "for r in  cursor.execute(avg_score_per_genre):\n",
    "    print(r)\n",
    "\n",
    "\n",
    "print('\\n Max Value of the Average Score per Genre \\n')\n",
    "    \n",
    "for r in  cursor.execute(max_avg_score_per_genre):\n",
    "    print(r)\n",
    "\n",
    "    \n",
    "print('\\n Genre(s) with highest score on average \\n')\n",
    "    \n",
    "for r in  cursor.execute(genres_with_highest_score):\n",
    "    print(r)"
   ]
  },
  {
   "cell_type": "markdown",
   "metadata": {},
   "source": [
    "### FIVE\n",
    "> Which is the least profitable genre (on average)?"
   ]
  },
  {
   "cell_type": "code",
   "execution_count": 43,
   "metadata": {},
   "outputs": [
    {
     "name": "stdout",
     "output_type": "stream",
     "text": [
      " Average Gross Number per Genre \n",
      "\n",
      "('Documentary', 2504043.8311688313)\n",
      "('Kids And Family', 148341546.55172414)\n",
      "('Mystery And Thriller', 37955485)\n",
      "('Adventure', 178596776.05633804)\n",
      "('Fantasy', 188697955)\n",
      "('Romance', 23522772.897196263)\n",
      "('Sports And Fitness', 6205350)\n",
      "('Horror', 29428121.42857143)\n",
      "('Sci Fi', 169652024.24242425)\n",
      "('Animation', 130001068.51851852)\n",
      "('Action', 163610438.70967743)\n",
      "('History', 25729268.888888888)\n",
      "('Other', 501333.3333333333)\n",
      "('Biography', 25255140.425531916)\n",
      "('Anime', 5959350)\n",
      "('Drama', 18136903.641092326)\n",
      "('Comedy', 54064438.666666664)\n",
      "('Crime', 23727787.777777776)\n",
      "('War', 19913485.36585366)\n",
      "('Western', 41612193.333333336)\n",
      "('Music', 25433709.09090909)\n",
      "('Musical', 122544385.71428572)\n",
      "\n",
      " Max Value of the Average Gross Number per Genre \n",
      "\n",
      "(188697955,)\n",
      "\n",
      " Genre(s) with highest Gross Number on average \n",
      "\n",
      "('Fantasy', 188697955)\n"
     ]
    }
   ],
   "source": [
    "union_genres_union_clauses = union_all(\n",
    "    name_prefix='genre', new_name='n_genre', max_columns=max_genres\n",
    ")\n",
    "\n",
    "genre_and_gross = f\"\"\"\n",
    "SELECT \n",
    "n_genre AS genre, gross_num\n",
    "FROM (\n",
    "    SELECT rtf.*, \n",
    "        CASE SUBSTR(bogu,-1) \n",
    "            WHEN 'M' THEN TO_NUMBER(REVERSE(SUBSTR(REVERSE(bogu),2))) * 1000000\n",
    "            WHEN 'K' THEN TO_NUMBER(REVERSE(SUBSTR(REVERSE(bogu),2))) * 1000\n",
    "            ELSE NULL\n",
    "        END AS GROSS_NUM\n",
    "    FROM \n",
    "        (\n",
    "        SELECT rtf.*, SUBSTR(TO_CHAR( BOX_OFFICE_GROSS_USA),2) AS bogu FROM ({union_genres_union_clauses})  rtf\n",
    "       ) rtf\n",
    ")       \n",
    "\"\"\"\n",
    "\n",
    "avg_gross_per_genre = f\"\"\"\n",
    " SELECT genre, AVG(gross_num) as mean\n",
    "FROM ({genre_and_gross})\n",
    "GROUP BY genre \n",
    "\n",
    "\"\"\"\n",
    "\n",
    "max_avg_gross_per_genre = f\"\"\"\n",
    " SELECT MAX(mean)\n",
    " FROM ({avg_gross_per_genre})\n",
    " \"\"\"\n",
    "\n",
    "genres_with_highest_gross = f\"\"\"\n",
    "SELECT *\n",
    "FROM ({avg_gross_per_genre})\n",
    "WHERE mean = ({max_avg_gross_per_genre})\n",
    "\"\"\"\n",
    "\n",
    "print(' Average Gross Number per Genre \\n')\n",
    "for r in cursor.execute(avg_gross_per_genre):\n",
    "    print(r)\n",
    "\n",
    "print('\\n Max Value of the Average Gross Number per Genre \\n')\n",
    "\n",
    "for r in cursor.execute(max_avg_gross_per_genre):\n",
    "    print(r)\n",
    "\n",
    "print('\\n Genre(s) with highest Gross Number on average \\n')\n",
    "\n",
    "for r in cursor.execute(genres_with_highest_gross):\n",
    "    print(r)"
   ]
  },
  {
   "cell_type": "markdown",
   "metadata": {},
   "source": [
    "### SIX\n",
    " > Which are the top  movie's original languages?"
   ]
  },
  {
   "cell_type": "code",
   "execution_count": 44,
   "metadata": {},
   "outputs": [
    {
     "name": "stdout",
     "output_type": "stream",
     "text": [
      "('English', 1139)\n",
      "('French (France)', 49)\n",
      "('French (Canada)', 46)\n",
      "('Spanish', 38)\n",
      "('English (United Kingdom)', 36)\n",
      "('Japanese', 27)\n",
      "('German', 23)\n",
      "('Chinese', 20)\n",
      "('Arabic', 19)\n",
      "('Hebrew', 14)\n",
      "('Persian', 13)\n",
      "('Korean', 13)\n",
      "('Portuguese (Brazil)', 11)\n",
      "('Spanish (Spain)', 10)\n",
      "('Italian', 10)\n",
      "('Danish', 9)\n",
      "('Swedish', 9)\n",
      "('Romanian', 9)\n",
      "('Russian', 8)\n",
      "('Turkish', 7)\n",
      "('Norwegian', 7)\n",
      "('Polish', 6)\n",
      "('English (Australia)', 5)\n",
      "('Thai', 4)\n",
      "('Hindi', 4)\n",
      "('Indonesian', 4)\n",
      "('Hungarian', 4)\n",
      "('Finnish', 4)\n",
      "('Icelandic', 3)\n",
      "('Dutch', 3)\n",
      "('Georgian', 2)\n",
      "('Marathi', 2)\n",
      "('Nepali', 2)\n",
      "('Unknown language', 2)\n",
      "('Portuguese', 2)\n",
      "('Albanian', 1)\n",
      "('Czech', 1)\n",
      "('Yiddish', 1)\n",
      "('Tibetan', 1)\n",
      "('Lingala', 1)\n",
      "('Tagalog', 1)\n",
      "('Mongolian', 1)\n",
      "('Catalan', 1)\n",
      "('Afrikaans', 1)\n",
      "('Lao', 1)\n",
      "('Dzongkha', 1)\n",
      "('Bambara', 1)\n",
      "('Serbian', 1)\n",
      "('Greek', 1)\n",
      "('Kalaallisut', 1)\n",
      "('Kurdish', 1)\n",
      "('Wolof', 1)\n",
      "(None, 0)\n"
     ]
    }
   ],
   "source": [
    "order_language = f\"\"\"\n",
    "SELECT language, COUNT(language)\n",
    "FROM (\n",
    "     SELECT TO_CHAR(original_language) AS language\n",
    "     FROM ROTTEN_TOMATOES_RAW \n",
    "     )\n",
    "GROUP BY language\n",
    "ORDER BY COUNT(language) DESC\n",
    "\"\"\"\n",
    "\n",
    "for r in cursor.execute(order_language):\n",
    "    print(r)"
   ]
  },
  {
   "cell_type": "markdown",
   "metadata": {},
   "source": [
    "### SEVEN\n",
    "> Which movie has more positive/negative critics? What are the genres?      \n"
   ]
  },
  {
   "cell_type": "markdown",
   "metadata": {},
   "source": [
    "### EIGTH\n",
    "> Which director has directed more movies?"
   ]
  },
  {
   "cell_type": "code",
   "execution_count": 45,
   "metadata": {},
   "outputs": [
    {
     "data": {
      "text/plain": [
       "5"
      ]
     },
     "execution_count": 45,
     "metadata": {},
     "output_type": "execute_result"
    }
   ],
   "source": [
    "max_directors =  [int(result[0]) for col in ['DIRECTOR'] for result in cursor.execute(q_max_names(col))][0]\n",
    "\n",
    "max_directors"
   ]
  },
  {
   "cell_type": "code",
   "execution_count": 46,
   "metadata": {},
   "outputs": [],
   "source": [
    "union_directors_union_clauses = union_all(name_prefix='director',new_name ='n_director',max_columns=max_directors)"
   ]
  },
  {
   "cell_type": "code",
   "execution_count": 47,
   "metadata": {},
   "outputs": [
    {
     "name": "stdout",
     "output_type": "stream",
     "text": [
      "\n",
      " Max number of films  directed by one person \n",
      "\n",
      "(11,)\n",
      "\n",
      " Director(s) with the highest number of films \n",
      "\n",
      "('Alex Gibney', 11)\n"
     ]
    }
   ],
   "source": [
    "director_freq = f\"\"\"\n",
    "SELECT  n_director AS director, COUNT(n_director) AS num_movies\n",
    "FROM ({union_directors_union_clauses})\n",
    "GROUP BY n_director\n",
    "\"\"\"\n",
    "\n",
    "max_director = f\"\"\"\n",
    " SELECT MAX(num_movies)\n",
    " FROM ({director_freq})\n",
    " \"\"\"\n",
    "\n",
    "directors_with_highest_num_films = f\"\"\"\n",
    "SELECT *\n",
    "FROM ({director_freq})\n",
    "WHERE num_movies = ({max_director})\n",
    "\"\"\"\n",
    "\n",
    "print('\\n Max number of films  directed by one person \\n')\n",
    "\n",
    "for r in cursor.execute(max_director):\n",
    "    print(r)\n",
    "\n",
    "print('\\n Director(s) with the highest number of films \\n')\n",
    "\n",
    "for r in cursor.execute(directors_with_highest_num_films):\n",
    "    print(r)"
   ]
  },
  {
   "cell_type": "markdown",
   "metadata": {},
   "source": [
    "### NINE\n",
    "> Which movies have a score of 9 or higher? Who directed them?  \n",
    "> What was the average budget for movies with a score/rating of 90 or higher?  "
   ]
  },
  {
   "cell_type": "code",
   "execution_count": 48,
   "metadata": {},
   "outputs": [
    {
     "name": "stdout",
     "output_type": "stream",
     "text": [
      "Tomatometer Score greater than 99 percent\n",
      "\n",
      "A Separation (2011) Asghar Farhadi 99\n",
      "Le Havre (2011) Aki Kaurismäki 99\n",
      "The Interrupters (2011) Steve James 99\n",
      "Bill Cunningham New York (2011) Richard Press 99\n",
      "Cameraperson (2016) Kirsten Johnson 99\n",
      "Tower (2016) Keith Maitland 99\n",
      "Under The Shadow (2016) Babak Anvari 99\n",
      "Things to Come (L'avenir) (2016) Mia Hansen-Løve 99\n",
      "The Wailing (Goksung) (2016) Na Hong-jin 99\n",
      "Selma (2014) Ava DuVernay 99\n",
      "Starred Up (2014) David Mackenzie 99\n",
      "The Missing Picture (2014) Rithy Panh 99\n",
      "Elaine Stritch: Shoot Me (2014) Chiemi Karasawa 99\n",
      "Song Of The Sea (2014) Tomm Moore 99\n",
      "Gloria (2014) Sebastián Lelio 99\n",
      "How to Train Your Dragon (2010) Christopher Sanders, Dean DeBlois 99\n",
      "The Invisible War (2012) Kirby Dick 99\n",
      "Apollo 11 (2019) Todd Douglas Miller 99\n",
      "Amazing Grace (2019) Alan Elliott 99\n",
      "Ash Is Purest White (2019) ZhangKe Jia 99\n",
      "They Shall Not Grow Old (2019) Peter Jackson 99\n",
      "Knock Down the House (2019) Rachel Lears 99\n",
      "For Sama (2019) Edward Watts, Waad Al-Khateab 99\n",
      "The Chambermaid (La camarista) (2019) Lila Avilés 99\n",
      "Parasite (Gisaengchung) (2019) Joon-ho Bong 99\n",
      "Jiro Dreams of Sushi (2012) David Gelb 99\n",
      "Never Rarely Sometimes Always (2020) Eliza Hittman 99\n",
      "Miss Juneteenth (2020) Channing Godfrey Peoples 99\n",
      "Time (2020) Garrett Bradley 99\n",
      "Saint Frances (2020) Alex Thompson 99\n",
      "Totally Under Control (2020) Alex Gibney, Ophelia Harutyunyan, Suzanne Hillinger 99\n",
      "On the Record (2020) Kirby Dick, Amy Ziering 99\n",
      "Truman (2017) Cesc Gay 99\n",
      "I Am Not Your Negro (2017) Raoul Peck 99\n",
      "Faces Places (Visages, villages) (2017) Agnès Varda, J.R. 99\n",
      "My Life as a Zucchini (Ma vie de courgette) (2017) Claude Barras 99\n",
      "About Elly (2015) Asghar Farhadi 99\n",
      "Lady Bird (2017) Greta Gerwig 99\n",
      "20 Feet From Stardom (2013) Morgan Neville 99\n",
      "Wadjda (2013) Haifaa Al-Mansour 99\n",
      "Shaun the Sheep Movie (2015) Mark Burton, Richard Starzak 99\n",
      "56 Up (2013) Michael Apted, Paul Almond 99\n",
      "The Tale (2018) Jennifer Fox 99\n",
      "Eighth Grade (2018) Bo Burnham 99\n",
      "Shoplifters (Manbiki kazoku) (2018) Hirokazu Koreeda 99\n",
      "McQueen (2018) Ian Bonhôte, Peter Ettedgui 99\n",
      "\n",
      " Audience Score greater than 95  percent\n",
      "\n",
      "Senna (2011) Asif Kapadia 95\n",
      "O.J.: Made in America (2016) Ezra Edelman 97\n",
      "Spider-Man: Far From Home (2019) Jon Watts 95\n",
      "Ford v Ferrari (2019) James Mangold 98\n",
      "Dark Waters (2019) Todd Haynes 95\n",
      "Fiddler: A Miracle of Miracles (2019) Max Lewkowicz 98\n",
      "Love, Antosha (2019) Garret Price 95\n",
      "The Peanut Butter Falcon (2019) Tyler Nilson, Michael Schwartz 96\n",
      "Maiden (2019) Alex Holmes 97\n",
      "Be Natural: The Untold Story of Alice Guy-Blaché (2019) Pamela B. Green 97\n",
      "And Then We Danced (2020) Levan Akin 95\n",
      "Toni Morrison: The Pieces I Am (2019) Timothy Greenfield-Sanders 96\n",
      "Onward (2020) Dan Scanlon 95\n",
      "God Grew Tired Of Us (2007) Christopher Dillon Quinn 95\n",
      "Just Mercy (2020) Destin Daniel Cretton 99\n",
      "Rewind (2020) Sasha Neulinger 96\n",
      "The Lives of Others (2006) Florian Henckel von Donnersmarck 96\n",
      "Dear Zachary: A Letter to a Son About His Father (2008) Kurt Kuenne 96\n",
      "\n",
      " Average buget for movies with  95  percent(audience score)\n",
      "\n",
      "Senna (2011) Asif Kapadia 95\n",
      "O.J.: Made in America (2016) Ezra Edelman 97\n",
      "Spider-Man: Far From Home (2019) Jon Watts 95\n",
      "Ford v Ferrari (2019) James Mangold 98\n",
      "Dark Waters (2019) Todd Haynes 95\n",
      "Fiddler: A Miracle of Miracles (2019) Max Lewkowicz 98\n",
      "Love, Antosha (2019) Garret Price 95\n",
      "The Peanut Butter Falcon (2019) Tyler Nilson, Michael Schwartz 96\n",
      "Maiden (2019) Alex Holmes 97\n",
      "Be Natural: The Untold Story of Alice Guy-Blaché (2019) Pamela B. Green 97\n",
      "And Then We Danced (2020) Levan Akin 95\n",
      "Toni Morrison: The Pieces I Am (2019) Timothy Greenfield-Sanders 96\n",
      "Onward (2020) Dan Scanlon 95\n",
      "God Grew Tired Of Us (2007) Christopher Dillon Quinn 95\n",
      "Just Mercy (2020) Destin Daniel Cretton 99\n",
      "Rewind (2020) Sasha Neulinger 96\n",
      "The Lives of Others (2006) Florian Henckel von Donnersmarck 96\n",
      "Dear Zachary: A Letter to a Son About His Father (2008) Kurt Kuenne 96\n"
     ]
    }
   ],
   "source": [
    "percentage_to_num = lambda col_name: f\"\"\"\n",
    "   CASE\n",
    "    WHEN LENGTH(TRIM(TO_CHAR({col_name}))) < 4\n",
    "    THEN TO_NUMBER( \n",
    "              REVERSE(SUBSTR(\n",
    "              REVERSE(\n",
    "                     TRIM(TO_CHAR({col_name}))\n",
    "                     )\n",
    "              ,2)) \n",
    "              )  \n",
    "    END {col_name}\n",
    "\"\"\"\n",
    "\n",
    "tomatometer_score = percentage_to_num('tomatometer_score')\n",
    "audience_score = percentage_to_num('audience_score')\n",
    "\n",
    "scores_to_num = f\"\"\"\n",
    "SELECT film_name, director,\n",
    " {tomatometer_score},\n",
    " {audience_score}\n",
    " FROM ROTTEN_TOMATOES_RAW rtr\n",
    "\"\"\"\n",
    "\n",
    "tomatoes_greater_than_99 = f\"\"\"\n",
    "SELECT *\n",
    "FROM ({scores_to_num})\n",
    "WHERE tomatometer_score >= 99\n",
    "\"\"\"\n",
    "\n",
    "audience_greater_than_95 = f\"\"\"\n",
    "SELECT *\n",
    "FROM ({scores_to_num})\n",
    "WHERE audience_score >= 95\n",
    "\"\"\"\n",
    "\n",
    "ave_audience_score_for_greater_than_95 = f\"\"\"\n",
    "SELECT *\n",
    "FROM ({scores_to_num})\n",
    "WHERE audience_score >= 95\n",
    "\"\"\"\n",
    "\n",
    "\n",
    "print(\"Tomatometer Score greater than 99 percent\\n\")\n",
    "\n",
    "for r in cursor.execute(tomatoes_greater_than_99):\n",
    "    print(r[0], r[1], r[2])\n",
    "\n",
    "print(\"\\n Audience Score greater than 95  percent\\n\")\n",
    "\n",
    "for r in cursor.execute(audience_greater_than_95):\n",
    "    print(r[0], r[1], r[3])\n",
    "    \n",
    "print(\"\\n Average buget for movies with  95  percent(audience score)\\n\")\n",
    "\n",
    "for r in cursor.execute(audience_greater_than_95):\n",
    "    print(r[0], r[1], r[3])"
   ]
  },
  {
   "cell_type": "code",
   "execution_count": 49,
   "metadata": {},
   "outputs": [
    {
     "name": "stdout",
     "output_type": "stream",
     "text": [
      "\n",
      " Average buget for movies with  95  percent(audience score)\n",
      "\n",
      "(43629906.666666664,)\n"
     ]
    }
   ],
   "source": [
    "gross_to_num = f\"\"\"\n",
    "(\n",
    "    SELECT rtf.*, \n",
    "        CASE SUBSTR(bogu,-1) \n",
    "            WHEN 'M' THEN TO_NUMBER(REVERSE(SUBSTR(REVERSE(bogu),2))) * 1000000\n",
    "            WHEN 'K' THEN TO_NUMBER(REVERSE(SUBSTR(REVERSE(bogu),2))) * 1000\n",
    "            ELSE NULL\n",
    "        END AS GROSS_NUM\n",
    "    FROM \n",
    "        (\n",
    "        SELECT rtf.*, SUBSTR(TO_CHAR( BOX_OFFICE_GROSS_USA),2) AS bogu FROM ROTTEN_TOMATOES_RAW  rtf\n",
    "       ) rtf\n",
    ")       \n",
    "\"\"\"\n",
    "\n",
    "percentage_to_num = lambda col_name: f\"\"\"\n",
    "   CASE\n",
    "    WHEN LENGTH(TRIM(TO_CHAR({col_name}))) < 4\n",
    "    THEN TO_NUMBER( \n",
    "              REVERSE(SUBSTR(\n",
    "              REVERSE(\n",
    "                     TRIM(TO_CHAR({col_name}))\n",
    "                     )\n",
    "              ,2)) \n",
    "              )  \n",
    "    END {col_name}\n",
    "\"\"\"\n",
    "\n",
    "\n",
    "\n",
    "tomatometer_score = percentage_to_num('tomatometer_score')\n",
    "audience_score = percentage_to_num('audience_score')\n",
    "\n",
    "scores_to_num = f\"\"\"\n",
    "SELECT gross_num,\n",
    " {tomatometer_score},\n",
    " {audience_score}\n",
    " FROM ({gross_to_num})\n",
    "\"\"\"\n",
    "\n",
    "\n",
    "ave_audience_score_for_greater_than_95 = f\"\"\"\n",
    "SELECT AVG(gross_num)\n",
    "FROM (SELECT * FROM ({scores_to_num}) WHERE audience_score >= 95)\n",
    "\"\"\"\n",
    "\n",
    "    \n",
    "print(\"\\n Average buget for movies with  95  percent(audience score)\\n\")\n",
    "\n",
    "for r in cursor.execute(ave_audience_score_for_greater_than_95):\n",
    "    print(r)"
   ]
  },
  {
   "cell_type": "markdown",
   "metadata": {},
   "source": [
    "### TEN\n",
    "\n",
    "> What are the movies with the highest score per year?  "
   ]
  },
  {
   "cell_type": "code",
   "execution_count": 68,
   "metadata": {},
   "outputs": [
    {
     "name": "stdout",
     "output_type": "stream",
     "text": [
      "\n",
      " Average buget for movies with  95  percent(audience score)\n",
      "\n",
      "(2005, 'Shake Hands with the Devil: The Journey of Romeo Dallaire (2005)', 91)\n",
      "(2006, 'The Perfect Crime (El Crimen Perfecto)(Crimen ferpecto) (2005)', 83)\n",
      "(2007, 'Blame It on Fidel (La Faute a Fidel) (2006)', 91)\n",
      "(2008, 'The Departed (2006)', 94)\n",
      "(2009, 'Batman Begins (2005)', 94)\n",
      "(2010, 'The Dark Knight (2008)', 94)\n",
      "(2011, 'Cell 211 (Celda 211) (2009)', 88)\n",
      "(2012, 'The Lives of Others (2006)', 96)\n",
      "(2013, 'Persepolis (2007)', 92)\n",
      "(2013, 'Warrior (2011)', 92)\n",
      "(2014, 'The Crash Reel (2013)', 94)\n",
      "(2015, 'The Cove (2009)', 94)\n",
      "(2016, 'Dear Zachary: A Letter to a Son About His Father (2008)', 96)\n",
      "(2017, 'Oldboy (2005)', 94)\n",
      "(2017, 'Turtles Can Fly (2005)', 94)\n",
      "(2017, 'Icarus (2017)', 94)\n",
      "(2017, 'No End in Sight (2007)', 94)\n",
      "(2018, \"Won't You Be My Neighbor? (2018)\", 94)\n",
      "(2018, 'Coco (2017)', 94)\n",
      "(2018, 'Your Name. (Kimi No Na Wa.) (2017)', 94)\n",
      "(2019, 'Just Mercy (2020)', 99)\n",
      "(2020, 'Rewind (2020)', 96)\n"
     ]
    }
   ],
   "source": [
    "percentage_to_num = lambda col_name: f\"\"\"\n",
    "   CASE\n",
    "    WHEN LENGTH(TRIM(TO_CHAR({col_name}))) < 4\n",
    "    THEN TO_NUMBER(\n",
    "            REVERSE(\n",
    "              SUBSTR(\n",
    "                REVERSE(TRIM(TO_CHAR({col_name})))\n",
    "              ,2)\n",
    "            ) \n",
    "         )  \n",
    "    END {col_name}\n",
    "\"\"\"\n",
    "\n",
    "tomatometer_score = percentage_to_num('tomatometer_score')\n",
    "audience_score = percentage_to_num('audience_score')\n",
    "\n",
    "year_of_release = f\"\"\"\n",
    "  SELECT rtr.*, EXTRACT( YEAR FROM TO_DATE(RELEASE_DATE_STREAMING,'MONTH DD, YYYY')) AS year_of_release\n",
    "  FROM ROTTEN_TOMATOES_RAW rtr\n",
    "\"\"\"\n",
    "\n",
    "scores_to_num = f\"\"\"\n",
    "SELECT TRIM(TO_CHAR(film_name)) AS film_name, year_of_release,\n",
    " {tomatometer_score},\n",
    " {audience_score}\n",
    "FROM ({year_of_release}) \n",
    "WHERE year_of_release IS NOT NULL\n",
    "\"\"\"\n",
    "\n",
    "partition_highest_score_per_year = f\"\"\"\n",
    "SELECT yor.*, MAX(yor.audience_score) OVER(PARTITION BY year_of_release) AS max_score_per_year\n",
    "FROM ({scores_to_num}) yor\n",
    "\"\"\"\n",
    "\n",
    "\n",
    "movie_highest_score_per_year = f\"\"\"\n",
    "SELECT year_of_release, film_name, audience_score\n",
    "FROM ({partition_highest_score_per_year}) \n",
    "WHERE max_score_per_year = audience_score\n",
    "\"\"\"\n",
    "\n",
    "print(\"\\n Average buget for movies with  95  percent(audience score)\\n\")\n",
    "\n",
    "for r in cursor.execute(movie_highest_score_per_year):\n",
    "    print(r)"
   ]
  },
  {
   "cell_type": "markdown",
   "metadata": {},
   "source": [
    "### ELEVEN\n",
    "\n",
    "> Find the movie with fewer scores from the top 20 most expensive movies. (Show output as “movie-x scores N  and had a budget of $99,999,999.00” )\n"
   ]
  },
  {
   "cell_type": "code",
   "execution_count": 129,
   "metadata": {},
   "outputs": [
    {
     "name": "stdout",
     "output_type": "stream",
     "text": [
      "\n",
      " Average buget for movies with  95  percent(audience score)\n",
      "\n",
      "movie Star Wars: The Last Jedi (2017) scores 42 with a bugdet of $620.2M\n",
      "movie Captain Marvel (2019) scores 46 with a bugdet of $426.8M\n",
      "movie Star Wars: Episode III - Revenge of the Sith (2005) scores 66 with a bugdet of $380.3M\n",
      "movie Iron Man 3 (2013) scores 78 with a bugdet of $409.0M\n",
      "movie Black Panther (2018) scores 79 with a bugdet of $700.2M\n",
      "movie The Hunger Games (2012) scores 81 with a bugdet of $408.0M\n",
      "movie Avatar (2009) scores 82 with a bugdet of $760.5M\n",
      "movie Incredibles 2 (2018) scores 84 with a bugdet of $608.6M\n",
      "movie Finding Dory (2016) scores 84 with a bugdet of $486.2M\n",
      "movie Wonder Woman (2017) scores 85 with a bugdet of $412.6M\n",
      "movie Frozen (2013) scores 85 with a bugdet of $400.9M\n",
      "movie Rogue One: A Star Wars Story (2016) scores 86 with a bugdet of $532.2M\n",
      "movie Guardians of the Galaxy Vol. 2 (2017) scores 87 with a bugdet of $389.8M\n",
      "movie Toy Story 3 (2010) scores 89 with a bugdet of $415.0M\n",
      "movie Harry Potter and the Deathly Hallows - Part 2 (2011) scores 89 with a bugdet of $381.0M\n",
      "movie Captain America: Civil War (2016) scores 89 with a bugdet of $408.1M\n",
      "movie Avengers: Endgame (2019) scores 90 with a bugdet of $858.4M\n",
      "movie Avengers: Infinity War (2018) scores 91 with a bugdet of $678.8M\n",
      "movie Toy Story 4 (2019) scores 94 with a bugdet of $434.0M\n",
      "movie Spider-Man: Far From Home (2019) scores 95 with a bugdet of $390.7M\n"
     ]
    }
   ],
   "source": [
    "gross_to_num = f\"\"\"\n",
    "SELECT rtr.*, \n",
    "    CASE SUBSTR(bogu,-1) \n",
    "        WHEN 'M' THEN TO_NUMBER(REVERSE(SUBSTR(REVERSE(bogu),2))) * 1000000\n",
    "        WHEN 'K' THEN TO_NUMBER(REVERSE(SUBSTR(REVERSE(bogu),2))) * 1000\n",
    "        ELSE NULL\n",
    "    END AS GROSS_NUM\n",
    "FROM \n",
    "    (\n",
    "    SELECT rtr.*, SUBSTR(TO_CHAR( BOX_OFFICE_GROSS_USA),2) AS bogu FROM ROTTEN_TOMATOES_RAW  rtr\n",
    "    WHERE box_office_gross_usa IS NOT NULL\n",
    "   ) rtr    \n",
    "\"\"\"\n",
    "\n",
    "percentage_to_num = lambda col_name: f\"\"\"\n",
    "   CASE\n",
    "    WHEN LENGTH(TRIM(TO_CHAR({col_name}))) < 4\n",
    "    THEN TO_NUMBER(\n",
    "            REVERSE(\n",
    "              SUBSTR(\n",
    "                REVERSE(TRIM(TO_CHAR({col_name})))\n",
    "              ,2)\n",
    "            ) \n",
    "         )  \n",
    "    END {col_name}\n",
    "\"\"\"\n",
    "\n",
    "audience_score = percentage_to_num('audience_score')\n",
    "\n",
    "\n",
    "scores_to_num = f\"\"\"\n",
    "SELECT TRIM(TO_CHAR(film_name)) AS film_name, gross_num, box_office_gross_usa,\n",
    " {audience_score}\n",
    "FROM ({gross_to_num}) \n",
    "\"\"\"\n",
    "\n",
    "top_expensive = f\"\"\"\n",
    "SELECT *\n",
    "FROM ({scores_to_num})\n",
    "WHERE gross_num IS NOT NULL \n",
    "ORDER BY gross_num DESC\n",
    "\"\"\"\n",
    " \n",
    "lowest_score_top_20 = f\"\"\"\n",
    "SELECT 'movie ' || film_name || ' scores ' || audience_score  || ' with a bugdet of ' || box_office_gross_usa\n",
    "FROM ({top_expensive})\n",
    "WHERE ROWNUM <= 20\n",
    "ORDER BY audience_score ASC\n",
    "\"\"\"\n",
    "\n",
    "\n",
    "print(\"\\n Lowest Scores for the Top 20 most expensive films \\n\")\n",
    "\n",
    "for r in cursor.execute(lowest_score_top_20):\n",
    "    print(r[0])"
   ]
  },
  {
   "cell_type": "markdown",
   "metadata": {},
   "source": [
    "### TWELVE\n",
    "\n",
    "> List all the distinct Rates"
   ]
  },
  {
   "cell_type": "code",
   "execution_count": 136,
   "metadata": {},
   "outputs": [
    {
     "name": "stdout",
     "output_type": "stream",
     "text": [
      "G\n",
      "NC-17\n",
      "PG\n",
      "PG-13\n",
      "R\n",
      "TV14\n",
      "TVMA\n"
     ]
    }
   ],
   "source": [
    "ratings = \"\"\"\n",
    "SELECT DISTINCT(rating)\n",
    "FROM (SELECT TRIM(TO_CHAR(regexp_substr(\"RATING\", '^[^ ]+',1, 1)))  AS rating \n",
    "      FROM rotten_tomatoes_raw\n",
    "      WHERE rating IS NOT NULL\n",
    "      )\n",
    "ORDER BY rating\n",
    "\"\"\"\n",
    "for r in cursor.execute(ratings):\n",
    "    print(r[0])"
   ]
  },
  {
   "cell_type": "markdown",
   "metadata": {},
   "source": [
    "### THIRTEEN\n",
    "\n",
    "> What is the average runtime per year?"
   ]
  },
  {
   "cell_type": "code",
   "execution_count": 150,
   "metadata": {},
   "outputs": [
    {
     "name": "stdout",
     "output_type": "stream",
     "text": [
      "(2014, 111.47435897435898)\n",
      "(2011, 112.77777777777777)\n",
      "(2009, 107.72727272727273)\n",
      "(2007, 105.58823529411765)\n",
      "(2010, 108.21428571428571)\n",
      "(2008, 113.21052631578948)\n",
      "(2006, 92.8)\n",
      "(2015, 107.73255813953489)\n",
      "(2017, 108.3202846975089)\n",
      "(2012, 107.125)\n",
      "(2019, 112.632)\n",
      "(2021, 110)\n",
      "(2016, 104.88981288981289)\n",
      "(2005, 106.5)\n",
      "(2013, 111.09803921568627)\n",
      "(2020, 102.61061946902655)\n",
      "(2018, 108.11009174311927)\n"
     ]
    }
   ],
   "source": [
    "year_of_release = f\"\"\"\n",
    "  SELECT rtr.*, EXTRACT( YEAR FROM TO_DATE(RELEASE_DATE_STREAMING,'MONTH DD, YYYY')) AS year_of_release\n",
    "  FROM ROTTEN_TOMATOES_RAW rtr\n",
    "\"\"\"\n",
    "\n",
    "runtime_and_year_of_release = f\"\"\"\n",
    "SELECT rt.*,  hours * 60 + minutes AS runtime_minutes\n",
    "  FROM  (\n",
    " SELECT  year_of_release, TO_CHAR(runtime), \n",
    " CASE\n",
    "     WHEN  SUBSTR(TO_CHAR(runtime),2,1) = 'h'\n",
    "     THEN  TO_NUMBER(SUBSTR(TO_CHAR(runtime),1,1)) \n",
    "     ELSE  0\n",
    " END hours, \n",
    " CASE\n",
    "     WHEN  SUBSTR(TO_CHAR(runtime),3,1) = 'm'\n",
    "     THEN  TO_NUMBER(SUBSTR(TO_CHAR(runtime),1,2)) \n",
    "     WHEN  SUBSTR(TO_CHAR(runtime),5,1) = 'm'\n",
    "     THEN  TO_NUMBER(SUBSTR(TO_CHAR(runtime),4,1))\n",
    "     WHEN  SUBSTR(TO_CHAR(runtime),6,1) = 'm'\n",
    "     THEN  TO_NUMBER(SUBSTR(TO_CHAR(runtime),4,2))\n",
    "     ELSE 0\n",
    " END minutes\n",
    " FROM ({year_of_release}) \n",
    " WHERE year_of_release IS NOT NULL\n",
    " )  rt\n",
    "\"\"\"\n",
    "avg_runtime_per_year = f\"\"\"\n",
    "SELECT year_of_release, AVG(runtime_minutes)\n",
    "FROM ({runtime_and_year_of_release})\n",
    "GROUP BY year_of_release\n",
    "\"\"\"\n",
    "\n",
    "for r in cursor.execute(avg_runtime_per_year):\n",
    "    print(r)"
   ]
  },
  {
   "cell_type": "markdown",
   "metadata": {},
   "source": [
    "### FOURTEEN\n",
    "> How much money was spent making movies each year?"
   ]
  },
  {
   "cell_type": "markdown",
   "metadata": {},
   "source": [
    "\n",
    "\t\t\t\t\t\t\n",
    "Which actor/actress has appeared in more movies?\t\t\n",
    "\n",
    "\n",
    "Create a column where the legend \"OSCAR\" appears if the movies have won any Oscars and the legend \"no-oscar\" if none. show the list in alphabetical order\n",
    "Guess the name of the actor appearing in the list of movies! Create a view that returns \n",
    "the first and last string of the actor's name and \"*****\" in between. \n",
    "How often critics disagree with the fan’s opinion?\t"
   ]
  },
  {
   "cell_type": "code",
   "execution_count": null,
   "metadata": {},
   "outputs": [],
   "source": [
    "q =\"\"\"\n",
    "SELECT table_name, column_name, data_type, data_length\n",
    "FROM USER_TAB_COLUMNS\n",
    "WHERE table_name = 'ROTTEN_TOMATOES_RAW'\n",
    "\"\"\"\n",
    "for r in  cursor.execute(q):\n",
    "    print(r)"
   ]
  }
 ],
 "metadata": {
  "kernelspec": {
   "display_name": "Python 3",
   "language": "python",
   "name": "python3"
  },
  "language_info": {
   "codemirror_mode": {
    "name": "ipython",
    "version": 3
   },
   "file_extension": ".py",
   "mimetype": "text/x-python",
   "name": "python",
   "nbconvert_exporter": "python",
   "pygments_lexer": "ipython3",
   "version": "3.7.6"
  }
 },
 "nbformat": 4,
 "nbformat_minor": 4
}
