{
 "cells": [
  {
   "cell_type": "code",
   "execution_count": null,
   "metadata": {},
   "outputs": [],
   "source": [
    "#!pip install pandas cx_Oracle ipython-sql > /dev/null"
   ]
  },
  {
   "cell_type": "markdown",
   "metadata": {},
   "source": [
    "Create and populate a Oracle Database from a Pandas Dataframe.  \n",
    "Uses SQL alchemy and cx Oracle to connect the server with the client."
   ]
  },
  {
   "cell_type": "code",
   "execution_count": 2,
   "metadata": {},
   "outputs": [],
   "source": [
    "import cx_Oracle\n",
    "import pandas as pd\n",
    "from sqlalchemy import types, create_engine\n",
    "\n",
    "\n",
    "usr = 'movies_project'\n",
    "pwd = 'intekglobal123'\n",
    "url = 'db:1521'\n",
    "srv = 'xepdb1'\n",
    "\n",
    "conn_string = 'oracle+cx_oracle://{}:{}@{}/?service_name={}'.format(usr,pwd,url,srv)\n",
    "conn = create_engine(conn_string,encoding='UTF-8')\n",
    "\n"
   ]
  },
  {
   "cell_type": "code",
   "execution_count": 5,
   "metadata": {},
   "outputs": [],
   "source": [
    "def process_column(x):\n",
    "    words = x.split(' ')\n",
    "    for k,word in enumerate(words):\n",
    "        words[k] = words[k].strip().lower()    \n",
    "        if '(' in word:\n",
    "            words[k] = words[k][1:]\n",
    "        if ')' in word:     \n",
    "            words[k] = words[k][:-1]\n",
    "    return '_'.join(words)\n",
    "    "
   ]
  },
  {
   "cell_type": "code",
   "execution_count": 6,
   "metadata": {},
   "outputs": [],
   "source": [
    "df = pd.read_json(\n",
    "    '../data/raw/rotten_tomatoes_Mon_Nov_30_22_48_06_2020.json', lines=True\n",
    ")\n",
    "new_columns = [process_column(x) for x in df.columns]\n",
    "df.columns = new_columns"
   ]
  },
  {
   "cell_type": "code",
   "execution_count": 9,
   "metadata": {},
   "outputs": [],
   "source": [
    "df.to_sql('rotten_tomatoes_raw', conn, if_exists='replace',index=False)"
   ]
  },
  {
   "cell_type": "code",
   "execution_count": null,
   "metadata": {},
   "outputs": [],
   "source": []
  }
 ],
 "metadata": {
  "kernelspec": {
   "display_name": "Python 3",
   "language": "python",
   "name": "python3"
  },
  "language_info": {
   "codemirror_mode": {
    "name": "ipython",
    "version": 3
   },
   "file_extension": ".py",
   "mimetype": "text/x-python",
   "name": "python",
   "nbconvert_exporter": "python",
   "pygments_lexer": "ipython3",
   "version": "3.7.6"
  }
 },
 "nbformat": 4,
 "nbformat_minor": 4
}
