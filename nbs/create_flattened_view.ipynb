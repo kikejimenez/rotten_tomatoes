{
 "cells": [
  {
   "cell_type": "code",
   "execution_count": 1,
   "metadata": {},
   "outputs": [
    {
     "name": "stdout",
     "output_type": "stream",
     "text": [
      "Values: ('X',)\n"
     ]
    }
   ],
   "source": [
    "import cx_Oracle\n",
    "import pandas as pd\n",
    "\n",
    "usr ='movies_project'\n",
    "pwd = 'intekglobal123'\n",
    "\n",
    "#tns=\"db:1521/xe\"\n",
    "dsn = cx_Oracle.makedsn(\"db\", 1521, service_name=\"xepdb1\")\n",
    "\n",
    "connection = cx_Oracle.connect(usr, pwd, dsn,encoding=\"UTF-8\")\n",
    "\n",
    "\n",
    "#check connectivity\n",
    "cursor = connection.cursor()\n",
    "cursor.execute(\"\"\"   SELECT * FROM DUAL \"\"\")\n",
    "for val in cursor:\n",
    "    print(\"Values:\", val)"
   ]
  },
  {
   "cell_type": "code",
   "execution_count": 2,
   "metadata": {},
   "outputs": [],
   "source": [
    "def q_max_names(colname):\n",
    "    '''Select max number of names in all columns\n",
    "    '''\n",
    "    return f\"\"\"  \n",
    "SELECT MAX(num_{colname}) FROM  (\n",
    "SELECT  (LENGTH( \"{colname}\" ) - LENGTH(REPLACE( \"{colname}\" ,',','')) + 1) AS num_{colname} \n",
    "FROM (\n",
    "SELECT TO_CHAR(TRIM(\"{colname}\" )) AS \"{colname}\"   FROM ROTTEN_TOMATOES_RAW rtr \n",
    "WHERE \"{colname}\"  IS NOT NULL \n",
    ")\n",
    ")\n",
    "\"\"\""
   ]
  },
  {
   "cell_type": "code",
   "execution_count": 3,
   "metadata": {},
   "outputs": [
    {
     "data": {
      "text/plain": [
       "{'RELEASE_DATE_STREAMING': 'CLOB',\n",
       " 'BOX_OFFICE_GROSS_USA': 'CLOB',\n",
       " 'RUNTIME': 'CLOB',\n",
       " 'PRODUCTION_CO': 'CLOB',\n",
       " 'SOUND_MIX': 'CLOB',\n",
       " 'VIEW_THE_COLLECTION': 'CLOB',\n",
       " 'SYNOPSIS': 'CLOB',\n",
       " 'CRITICS_CONSENSUS': 'CLOB',\n",
       " 'TOMATOMETER_SCORE': 'CLOB',\n",
       " 'TOMATOMETER_TOTAL_COUNT': 'CLOB',\n",
       " 'AUDIENCE_SCORE': 'CLOB',\n",
       " 'AUDIENCE_USER_RATINGS': 'CLOB',\n",
       " 'ASPECT_RATIO': 'CLOB',\n",
       " 'YEAR': 'NUMBER',\n",
       " 'FILM_NAME': 'CLOB',\n",
       " 'RATING': 'CLOB',\n",
       " 'GENRE': 'CLOB',\n",
       " 'ORIGINAL_LANGUAGE': 'CLOB',\n",
       " 'DIRECTOR': 'CLOB',\n",
       " 'PRODUCER': 'CLOB',\n",
       " 'WRITER': 'CLOB',\n",
       " 'RELEASE_DATE_THEATERS': 'CLOB'}"
      ]
     },
     "execution_count": 3,
     "metadata": {},
     "output_type": "execute_result"
    }
   ],
   "source": [
    "q_column_names =\"\"\"\n",
    "SELECT table_name, column_name, data_type, data_length\n",
    "FROM USER_TAB_COLUMNS\n",
    "WHERE table_name = 'ROTTEN_TOMATOES_RAW'\n",
    "\"\"\"\n",
    "\n",
    "cursor.execute(q_column_names)\n",
    "dtypes_dic = {row[1]:row[2] for row in cursor.execute(q_column_names)}\n",
    "dtypes_dic"
   ]
  },
  {
   "cell_type": "code",
   "execution_count": 11,
   "metadata": {},
   "outputs": [],
   "source": [
    "multi_valued_cols = ['DIRECTOR','PRODUCER','WRITER', 'PRODUCTION_CO','GENRE']"
   ]
  },
  {
   "cell_type": "code",
   "execution_count": 12,
   "metadata": {},
   "outputs": [],
   "source": [
    "#one_to_many_columns = ['DIRECTOR','RATING','PRODUCER','WRITER','ORIGINAL_LANGUAGE', 'PRODUCTION_CO']"
   ]
  },
  {
   "cell_type": "code",
   "execution_count": 13,
   "metadata": {},
   "outputs": [
    {
     "data": {
      "text/plain": [
       "[5, 8, 8, 22, 6]"
      ]
     },
     "execution_count": 13,
     "metadata": {},
     "output_type": "execute_result"
    }
   ],
   "source": [
    "#Max names\n",
    "max_names_results =  [int(result[0]) for col in multi_valued_cols for result in cursor.execute(q_max_names(col))]\n",
    "\n",
    "max_names_results"
   ]
  },
  {
   "cell_type": "code",
   "execution_count": 14,
   "metadata": {},
   "outputs": [],
   "source": [
    "def q_split_comma_sep_vals(cols, pos_list):\n",
    "    def q_select_f(col, pos):\n",
    "        return f\"\"\"TRIM(TO_CHAR(regexp_substr(\"{col}\", '[^,]+',1, {pos}))) AS {col}_{pos},\"\"\"\n",
    "\n",
    "    q_select_cols = '\\n'.join(\n",
    "        [\n",
    "            '\\n'.join(\n",
    "                [\n",
    "                    q_select_f(col, pos)\n",
    "                    for pos in range(1, num_pos + 1)\n",
    "                ]\n",
    "            ) for col,num_pos in  zip(cols, pos_list)\n",
    "        ]\n",
    "    )\n",
    "    q_select_cols = q_select_cols[:-1]+'\\n'\n",
    "\n",
    "    return f\"\"\"SELECT\n",
    "rtr.*,\n",
    "{q_select_cols}\n",
    "FROM ROTTEN_TOMATOES_RAW rtr \n",
    "\"\"\""
   ]
  },
  {
   "cell_type": "code",
   "execution_count": 15,
   "metadata": {},
   "outputs": [],
   "source": [
    "#Flatten multi_valued_cols "
   ]
  },
  {
   "cell_type": "code",
   "execution_count": 16,
   "metadata": {},
   "outputs": [],
   "source": [
    "q_create_flattened_view = f\"\"\"CREATE OR REPLACE VIEW ROTTEN_TOMATOES_FLAT AS\n",
    "{q_split_comma_sep_vals(multi_valued_cols, max_names_results)}\n",
    "\"\"\"\n",
    "cursor.execute(q_create_flattened_view)"
   ]
  },
  {
   "cell_type": "code",
   "execution_count": 17,
   "metadata": {},
   "outputs": [
    {
     "name": "stdout",
     "output_type": "stream",
     "text": [
      "CREATE OR REPLACE VIEW ROTTEN_TOMATOES_FLAT AS\n",
      "SELECT\n",
      "rtr.*,\n",
      "TRIM(TO_CHAR(regexp_substr(\"DIRECTOR\", '[^,]+',1, 1))) AS DIRECTOR_1,\n",
      "TRIM(TO_CHAR(regexp_substr(\"DIRECTOR\", '[^,]+',1, 2))) AS DIRECTOR_2,\n",
      "TRIM(TO_CHAR(regexp_substr(\"DIRECTOR\", '[^,]+',1, 3))) AS DIRECTOR_3,\n",
      "TRIM(TO_CHAR(regexp_substr(\"DIRECTOR\", '[^,]+',1, 4))) AS DIRECTOR_4,\n",
      "TRIM(TO_CHAR(regexp_substr(\"DIRECTOR\", '[^,]+',1, 5))) AS DIRECTOR_5,\n",
      "TRIM(TO_CHAR(regexp_substr(\"PRODUCER\", '[^,]+',1, 1))) AS PRODUCER_1,\n",
      "TRIM(TO_CHAR(regexp_substr(\"PRODUCER\", '[^,]+',1, 2))) AS PRODUCER_2,\n",
      "TRIM(TO_CHAR(regexp_substr(\"PRODUCER\", '[^,]+',1, 3))) AS PRODUCER_3,\n",
      "TRIM(TO_CHAR(regexp_substr(\"PRODUCER\", '[^,]+',1, 4))) AS PRODUCER_4,\n",
      "TRIM(TO_CHAR(regexp_substr(\"PRODUCER\", '[^,]+',1, 5))) AS PRODUCER_5,\n",
      "TRIM(TO_CHAR(regexp_substr(\"PRODUCER\", '[^,]+',1, 6))) AS PRODUCER_6,\n",
      "TRIM(TO_CHAR(regexp_substr(\"PRODUCER\", '[^,]+',1, 7))) AS PRODUCER_7,\n",
      "TRIM(TO_CHAR(regexp_substr(\"PRODUCER\", '[^,]+',1, 8))) AS PRODUCER_8,\n",
      "TRIM(TO_CHAR(regexp_substr(\"WRITER\", '[^,]+',1, 1))) AS WRITER_1,\n",
      "TRIM(TO_CHAR(regexp_substr(\"WRITER\", '[^,]+',1, 2))) AS WRITER_2,\n",
      "TRIM(TO_CHAR(regexp_substr(\"WRITER\", '[^,]+',1, 3))) AS WRITER_3,\n",
      "TRIM(TO_CHAR(regexp_substr(\"WRITER\", '[^,]+',1, 4))) AS WRITER_4,\n",
      "TRIM(TO_CHAR(regexp_substr(\"WRITER\", '[^,]+',1, 5))) AS WRITER_5,\n",
      "TRIM(TO_CHAR(regexp_substr(\"WRITER\", '[^,]+',1, 6))) AS WRITER_6,\n",
      "TRIM(TO_CHAR(regexp_substr(\"WRITER\", '[^,]+',1, 7))) AS WRITER_7,\n",
      "TRIM(TO_CHAR(regexp_substr(\"WRITER\", '[^,]+',1, 8))) AS WRITER_8,\n",
      "TRIM(TO_CHAR(regexp_substr(\"PRODUCTION_CO\", '[^,]+',1, 1))) AS PRODUCTION_CO_1,\n",
      "TRIM(TO_CHAR(regexp_substr(\"PRODUCTION_CO\", '[^,]+',1, 2))) AS PRODUCTION_CO_2,\n",
      "TRIM(TO_CHAR(regexp_substr(\"PRODUCTION_CO\", '[^,]+',1, 3))) AS PRODUCTION_CO_3,\n",
      "TRIM(TO_CHAR(regexp_substr(\"PRODUCTION_CO\", '[^,]+',1, 4))) AS PRODUCTION_CO_4,\n",
      "TRIM(TO_CHAR(regexp_substr(\"PRODUCTION_CO\", '[^,]+',1, 5))) AS PRODUCTION_CO_5,\n",
      "TRIM(TO_CHAR(regexp_substr(\"PRODUCTION_CO\", '[^,]+',1, 6))) AS PRODUCTION_CO_6,\n",
      "TRIM(TO_CHAR(regexp_substr(\"PRODUCTION_CO\", '[^,]+',1, 7))) AS PRODUCTION_CO_7,\n",
      "TRIM(TO_CHAR(regexp_substr(\"PRODUCTION_CO\", '[^,]+',1, 8))) AS PRODUCTION_CO_8,\n",
      "TRIM(TO_CHAR(regexp_substr(\"PRODUCTION_CO\", '[^,]+',1, 9))) AS PRODUCTION_CO_9,\n",
      "TRIM(TO_CHAR(regexp_substr(\"PRODUCTION_CO\", '[^,]+',1, 10))) AS PRODUCTION_CO_10,\n",
      "TRIM(TO_CHAR(regexp_substr(\"PRODUCTION_CO\", '[^,]+',1, 11))) AS PRODUCTION_CO_11,\n",
      "TRIM(TO_CHAR(regexp_substr(\"PRODUCTION_CO\", '[^,]+',1, 12))) AS PRODUCTION_CO_12,\n",
      "TRIM(TO_CHAR(regexp_substr(\"PRODUCTION_CO\", '[^,]+',1, 13))) AS PRODUCTION_CO_13,\n",
      "TRIM(TO_CHAR(regexp_substr(\"PRODUCTION_CO\", '[^,]+',1, 14))) AS PRODUCTION_CO_14,\n",
      "TRIM(TO_CHAR(regexp_substr(\"PRODUCTION_CO\", '[^,]+',1, 15))) AS PRODUCTION_CO_15,\n",
      "TRIM(TO_CHAR(regexp_substr(\"PRODUCTION_CO\", '[^,]+',1, 16))) AS PRODUCTION_CO_16,\n",
      "TRIM(TO_CHAR(regexp_substr(\"PRODUCTION_CO\", '[^,]+',1, 17))) AS PRODUCTION_CO_17,\n",
      "TRIM(TO_CHAR(regexp_substr(\"PRODUCTION_CO\", '[^,]+',1, 18))) AS PRODUCTION_CO_18,\n",
      "TRIM(TO_CHAR(regexp_substr(\"PRODUCTION_CO\", '[^,]+',1, 19))) AS PRODUCTION_CO_19,\n",
      "TRIM(TO_CHAR(regexp_substr(\"PRODUCTION_CO\", '[^,]+',1, 20))) AS PRODUCTION_CO_20,\n",
      "TRIM(TO_CHAR(regexp_substr(\"PRODUCTION_CO\", '[^,]+',1, 21))) AS PRODUCTION_CO_21,\n",
      "TRIM(TO_CHAR(regexp_substr(\"PRODUCTION_CO\", '[^,]+',1, 22))) AS PRODUCTION_CO_22,\n",
      "TRIM(TO_CHAR(regexp_substr(\"GENRE\", '[^,]+',1, 1))) AS GENRE_1,\n",
      "TRIM(TO_CHAR(regexp_substr(\"GENRE\", '[^,]+',1, 2))) AS GENRE_2,\n",
      "TRIM(TO_CHAR(regexp_substr(\"GENRE\", '[^,]+',1, 3))) AS GENRE_3,\n",
      "TRIM(TO_CHAR(regexp_substr(\"GENRE\", '[^,]+',1, 4))) AS GENRE_4,\n",
      "TRIM(TO_CHAR(regexp_substr(\"GENRE\", '[^,]+',1, 5))) AS GENRE_5,\n",
      "TRIM(TO_CHAR(regexp_substr(\"GENRE\", '[^,]+',1, 6))) AS GENRE_6\n",
      "\n",
      "FROM ROTTEN_TOMATOES_RAW rtr \n",
      "\n",
      "\n"
     ]
    }
   ],
   "source": [
    "print(q_create_flattened_view)"
   ]
  },
  {
   "cell_type": "code",
   "execution_count": 18,
   "metadata": {},
   "outputs": [],
   "source": [
    "#print(q_create_flattened_view)"
   ]
  },
  {
   "cell_type": "code",
   "execution_count": null,
   "metadata": {},
   "outputs": [],
   "source": [
    "#cursor.execute(q_split_comma_sep_vals(\"WRITER\",'1'))\n",
    "for r in cursor.execute(q_split_comma_sep_vals(\"WRITER\",'1')):\n",
    "    print(r[0])"
   ]
  },
  {
   "cell_type": "code",
   "execution_count": null,
   "metadata": {},
   "outputs": [],
   "source": []
  }
 ],
 "metadata": {
  "kernelspec": {
   "display_name": "Python 3",
   "language": "python",
   "name": "python3"
  },
  "language_info": {
   "codemirror_mode": {
    "name": "ipython",
    "version": 3
   },
   "file_extension": ".py",
   "mimetype": "text/x-python",
   "name": "python",
   "nbconvert_exporter": "python",
   "pygments_lexer": "ipython3",
   "version": "3.7.6"
  }
 },
 "nbformat": 4,
 "nbformat_minor": 4
}
