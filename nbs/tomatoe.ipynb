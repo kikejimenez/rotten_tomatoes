{
 "metadata": {
  "language_info": {
   "codemirror_mode": {
    "name": "ipython",
    "version": 3
   },
   "file_extension": ".py",
   "mimetype": "text/x-python",
   "name": "python",
   "nbconvert_exporter": "python",
   "pygments_lexer": "ipython3",
   "version": "3.8.5-final"
  },
  "orig_nbformat": 2,
  "kernelspec": {
   "name": "python3",
   "display_name": "Python 3"
  }
 },
 "nbformat": 4,
 "nbformat_minor": 2,
 "cells": [
  {
   "cell_type": "code",
   "execution_count": 184,
   "metadata": {},
   "outputs": [],
   "source": [
    "from selenium import webdriver\n",
    "from selenium.webdriver.common.by import By"
   ]
  },
  {
   "cell_type": "code",
   "execution_count": 185,
   "metadata": {},
   "outputs": [],
   "source": [
    "year_movie=2018\n",
    "url = \"https://www.rottentomatoes.com/top/bestofrt/?year={}\".format(year_movie)\n",
    "driver = webdriver.Chrome()\n",
    "driver.get(url)"
   ]
  },
  {
   "source": [
    "body = driver.find_element_by_xpath('//*[@id=\"top_movies_main\"]/div/table/tbody')"
   ],
   "cell_type": "code",
   "metadata": {},
   "execution_count": 186,
   "outputs": []
  },
  {
   "source": [
    "tr = body.find_elements(By.TAG_NAME,'tr')[0]"
   ],
   "cell_type": "code",
   "metadata": {},
   "execution_count": 187,
   "outputs": []
  },
  {
   "cell_type": "code",
   "execution_count": 188,
   "metadata": {},
   "outputs": [
    {
     "output_type": "stream",
     "name": "stdout",
     "text": [
      "\n    <td class=\"bold\">1.</td>\n    <td>\n        <span class=\"tMeterIcon tiny\">\n                    <span class=\"icon tiny certified_fresh\"></span>\n                    <span class=\"tMeterScore\">&nbsp;97%</span>\n                </span>\n            </td>\n    <td>\n        <a href=\"/m/black_panther_2018\" class=\"unstyled articleLink\">\n            Black Panther (2018)</a>\n    </td>\n    <td class=\"right hidden-xs\">515</td>\n\n"
     ]
    }
   ],
   "source": [
    "print(tr.get_attribute('innerHTML'))"
   ]
  },
  {
   "cell_type": "code",
   "execution_count": 192,
   "metadata": {},
   "outputs": [],
   "source": [
    "\n",
    "movie_row = tr.find_elements(By.TAG_NAME,'td')[2]\n",
    "movie_link = movie_row.find_elements(By.TAG_NAME,'a')[0]"
   ]
  },
  {
   "cell_type": "code",
   "execution_count": 193,
   "metadata": {},
   "outputs": [
    {
     "output_type": "execute_result",
     "data": {
      "text/plain": [
       "'https://www.rottentomatoes.com/m/black_panther_2018'"
      ]
     },
     "metadata": {},
     "execution_count": 193
    }
   ],
   "source": [
    " movie_link.get_attribute('href')"
   ]
  },
  {
   "cell_type": "code",
   "execution_count": 194,
   "metadata": {},
   "outputs": [],
   "source": [
    "#driver.quit()\n",
    "#driver.close()"
   ]
  },
  {
   "cell_type": "code",
   "execution_count": 195,
   "metadata": {},
   "outputs": [],
   "source": [
    "#driver = webdriver.Chrome()\n",
    "movie_url = movie_link.get_attribute('href')\n",
    "driver.get(movie_url)"
   ]
  },
  {
   "source": [
    "movie_info = driver.find_element_by_xpath('//*[@id=\"mainColumn\"]/section[3]/div/div') "
   ],
   "cell_type": "code",
   "metadata": {},
   "execution_count": 196,
   "outputs": []
  },
  {
   "cell_type": "code",
   "execution_count": 197,
   "metadata": {},
   "outputs": [
    {
     "output_type": "execute_result",
     "data": {
      "text/plain": [
       "\"After the death of his father, T'Challa returns home to the African nation of Wakanda to take his rightful place as king. When a powerful enemy suddenly reappears, T'Challa's mettle as king -- and as Black Panther -- gets tested when he's drawn into a conflict that puts the fate of Wakanda and the entire world at risk. Faced with treachery and danger, the young king must rally his allies and release the full power of Black Panther to defeat his foes and secure the safety of his people.\""
      ]
     },
     "metadata": {},
     "execution_count": 197
    }
   ],
   "source": [
    "synopsis = movie_info.find_element_by_id('movieSynopsis')\n",
    "synopsis.text"
   ]
  },
  {
   "cell_type": "code",
   "execution_count": 198,
   "metadata": {},
   "outputs": [
    {
     "output_type": "execute_result",
     "data": {
      "text/plain": [
       "'Rating: PG-13 (Sequences of Action Violence|A Brief Rude Gesture)\\nGenre: Adventure, Action, Fantasy\\nOriginal Language: English\\nDirector: Ryan Coogler\\nProducer: Kevin Feige\\nWriter: Ryan Coogler, Joe Robert Cole\\nRelease Date (Theaters): Feb 16, 2018  Wide\\nRelease Date (Streaming): May 2, 2018\\nBox Office (Gross USA): $700.2M\\nRuntime: 2h 14m\\nProduction Co: Walt Disney Pictures\\nSound Mix: DTS, Dolby Atmos\\nAspect Ratio: Scope (2.35:1)\\nView the collection: Marvel Cinematic Universe'"
      ]
     },
     "metadata": {},
     "execution_count": 198
    }
   ],
   "source": [
    "content_info = movie_info.find_element_by_tag_name('ul')\n",
    "content_info.text"
   ]
  },
  {
   "cell_type": "code",
   "execution_count": 199,
   "metadata": {},
   "outputs": [],
   "source": [
    "content_rows = content_info.find_elements(By.TAG_NAME,'li')"
   ]
  },
  {
   "cell_type": "code",
   "execution_count": 200,
   "metadata": {},
   "outputs": [],
   "source": [
    "contents_dic = {}\n",
    "for k,row in enumerate(content_rows):\n",
    "    key,val = [r.text for r in row.find_elements(By.TAG_NAME,'div')]\n",
    "    contents_dic[key.split(':')[0]] = val"
   ]
  },
  {
   "cell_type": "code",
   "execution_count": 201,
   "metadata": {},
   "outputs": [
    {
     "output_type": "execute_result",
     "data": {
      "text/plain": [
       "{'Rating': 'PG-13 (Sequences of Action Violence|A Brief Rude Gesture)',\n",
       " 'Genre': 'Adventure, Action, Fantasy',\n",
       " 'Original Language': 'English',\n",
       " 'Director': 'Ryan Coogler',\n",
       " 'Producer': 'Kevin Feige',\n",
       " 'Writer': 'Ryan Coogler, Joe Robert Cole',\n",
       " 'Release Date (Theaters)': 'Feb 16, 2018  Wide',\n",
       " 'Release Date (Streaming)': 'May 2, 2018',\n",
       " 'Box Office (Gross USA)': '$700.2M',\n",
       " 'Runtime': '2h 14m',\n",
       " 'Production Co': 'Walt Disney Pictures',\n",
       " 'Sound Mix': 'DTS, Dolby Atmos',\n",
       " 'Aspect Ratio': 'Scope (2.35:1)',\n",
       " 'View the collection': 'Marvel Cinematic Universe'}"
      ]
     },
     "metadata": {},
     "execution_count": 201
    }
   ],
   "source": [
    "contents_dic"
   ]
  },
  {
   "cell_type": "code",
   "execution_count": 202,
   "metadata": {},
   "outputs": [],
   "source": [
    "critics_consensus = driver.find_element_by_xpath('//*[@id=\"topSection\"]/div[2]/div[1]/section/p').text"
   ]
  },
  {
   "cell_type": "code",
   "execution_count": 203,
   "metadata": {},
   "outputs": [
    {
     "output_type": "execute_result",
     "data": {
      "text/plain": [
       "\"Black Panther elevates superhero cinema to thrilling new heights while telling one of the MCU's most absorbing stories -- and introducing some of its most fully realized characters.\""
      ]
     },
     "metadata": {},
     "execution_count": 203
    }
   ],
   "source": [
    "critics_consensus"
   ]
  },
  {
   "cell_type": "code",
   "execution_count": 204,
   "metadata": {},
   "outputs": [],
   "source": [
    "tomatometer_percentage = driver.find_element_by_xpath('//*[@id=\"tomato_meter_link\"]/span[2]').text\n",
    "tomatometer_count = driver.find_element_by_xpath( '//*[@id=\"topSection\"]/div[2]/div[1]/section/section/div[1]/div/small').text\n",
    "audicence_score_percentage =driver.find_element_by_xpath('//*[@id=\"topSection\"]/div[2]/div[1]/section/section/div[2]/h2/a/span[2]').text\n",
    "user_ratings = driver.find_element_by_xpath('//*[@id=\"topSection\"]/div[2]/div[1]/section/section/div[2]/div/strong').text\n",
    "#tomatometer_total_count = tomatometer.find_element(By.TAG_NAME,'h2')"
   ]
  },
  {
   "cell_type": "code",
   "execution_count": 205,
   "metadata": {},
   "outputs": [
    {
     "output_type": "stream",
     "name": "stdout",
     "text": [
      "97% 515 79% User Ratings: 88,211\n"
     ]
    }
   ],
   "source": [
    "print(tomatometer_percentage,tomatometer_count,audicence_score_percentage,user_ratings)"
   ]
  },
  {
   "cell_type": "code",
   "execution_count": 206,
   "metadata": {},
   "outputs": [],
   "source": [
    "tomato_info  = {}\n",
    "tomato_info['Tomatometer Score'] = tomatometer_percentage[:-1]\n",
    "tomato_info['Tomatometer Total Count'] = int(tomatometer_count)\n",
    "tomato_info['Audience Score'] = audicence_score_percentage[:-1]\n",
    "tomato_info['Audience User Ratings'] = user_ratings.split(':')[-1]"
   ]
  },
  {
   "cell_type": "code",
   "execution_count": 207,
   "metadata": {},
   "outputs": [
    {
     "output_type": "execute_result",
     "data": {
      "text/plain": [
       "{'Tomatometer Score': '97',\n",
       " 'Tomatometer Total Count': 515,\n",
       " 'Audience Score': '79',\n",
       " 'Audience User Ratings': ' 88,211'}"
      ]
     },
     "metadata": {},
     "execution_count": 207
    }
   ],
   "source": [
    "tomato_info"
   ]
  },
  {
   "cell_type": "code",
   "execution_count": null,
   "metadata": {},
   "outputs": [],
   "source": []
  }
 ]
}